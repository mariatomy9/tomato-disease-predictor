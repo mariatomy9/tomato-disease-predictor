{
  "nbformat": 4,
  "nbformat_minor": 0,
  "metadata": {
    "colab": {
      "name": "Tomato-disease predictor.ipynb",
      "provenance": [],
      "mount_file_id": "1-AaMAcWd1XDvsyr5GzZLNFwIfabSIk40",
      "authorship_tag": "ABX9TyOrNw7ycmGaqxoU6obiPT36",
      "include_colab_link": true
    },
    "kernelspec": {
      "name": "python3",
      "display_name": "Python 3"
    },
    "language_info": {
      "name": "python"
    }
  },
  "cells": [
    {
      "cell_type": "markdown",
      "metadata": {
        "id": "view-in-github",
        "colab_type": "text"
      },
      "source": [
        "<a href=\"https://colab.research.google.com/github/mariatomy9/tomato-disease-predictor/blob/main/Tomato_disease_predictor.ipynb\" target=\"_parent\"><img src=\"https://colab.research.google.com/assets/colab-badge.svg\" alt=\"Open In Colab\"/></a>"
      ]
    },
    {
      "cell_type": "markdown",
      "metadata": {
        "id": "eEFU8Xb2QpfR"
      },
      "source": [
        "# Tomato-disease prediction"
      ]
    },
    {
      "cell_type": "code",
      "metadata": {
        "id": "bk9hEeK7QnyU"
      },
      "source": [
        "# importing essential libraries\n",
        "\n",
        "from keras.layers import Input, Lambda, Dense, Flatten\n",
        "from keras.models import Model, Sequential\n",
        "from keras.applications.resnet50 import ResNet50, preprocess_input\n",
        "from keras.preprocessing import image\n",
        "from keras.preprocessing.image import ImageDataGenerator, load_img\n",
        "import numpy as np\n",
        "from glob import glob"
      ],
      "execution_count": null,
      "outputs": []
    },
    {
      "cell_type": "code",
      "metadata": {
        "id": "pkpeDlQHREtR"
      },
      "source": [
        ""
      ],
      "execution_count": null,
      "outputs": []
    },
    {
      "cell_type": "code",
      "metadata": {
        "id": "05ecys8_Qobm"
      },
      "source": [
        "image_size = [224, 224]\n",
        "\n",
        "train_path = '/content/drive/MyDrive/Leaf_disease_detection/dataset2/PlantVillage/PlantVillage/train_sample'\n",
        "valid_path = '/content/drive/MyDrive/Leaf_disease_detection/dataset2/PlantVillage/PlantVillage/test_sample'"
      ],
      "execution_count": null,
      "outputs": []
    },
    {
      "cell_type": "code",
      "metadata": {
        "colab": {
          "base_uri": "https://localhost:8080/"
        },
        "id": "yb02GhqIQodq",
        "outputId": "47dbc664-9550-4688-8346-479d02925337"
      },
      "source": [
        "resnet = ResNet50(input_shape = image_size + [3], weights = 'imagenet', include_top=False)"
      ],
      "execution_count": null,
      "outputs": [
        {
          "output_type": "stream",
          "text": [
            "Downloading data from https://storage.googleapis.com/tensorflow/keras-applications/resnet/resnet50_weights_tf_dim_ordering_tf_kernels_notop.h5\n",
            "94773248/94765736 [==============================] - 1s 0us/step\n"
          ],
          "name": "stdout"
        }
      ]
    },
    {
      "cell_type": "code",
      "metadata": {
        "id": "DzarRC5zQof-"
      },
      "source": [
        "# not training existing weights\n",
        "for layer in resnet.layers:\n",
        "  layer.trainable = False"
      ],
      "execution_count": null,
      "outputs": []
    },
    {
      "cell_type": "code",
      "metadata": {
        "colab": {
          "base_uri": "https://localhost:8080/"
        },
        "id": "iZQeeSatQoiV",
        "outputId": "5df4c7fe-9f89-43aa-f5b2-105e14a96504"
      },
      "source": [
        "# useful in getting total number of classes\n",
        "folders = glob(\"/content/drive/MyDrive/Leaf_disease_detection/dataset2/PlantVillage/PlantVillage/train_sample/*\")\n",
        "folders"
      ],
      "execution_count": null,
      "outputs": [
        {
          "output_type": "execute_result",
          "data": {
            "text/plain": [
              "['/content/drive/MyDrive/Leaf_disease_detection/dataset2/PlantVillage/PlantVillage/train_sample/Tomato___Tomato_Yellow_Leaf_Curl_Virus',\n",
              " '/content/drive/MyDrive/Leaf_disease_detection/dataset2/PlantVillage/PlantVillage/train_sample/Tomato___healthy']"
            ]
          },
          "metadata": {
            "tags": []
          },
          "execution_count": 6
        }
      ]
    },
    {
      "cell_type": "code",
      "metadata": {
        "id": "6auAynCWQokw"
      },
      "source": [
        "x = Flatten()(resnet.output)"
      ],
      "execution_count": null,
      "outputs": []
    },
    {
      "cell_type": "code",
      "metadata": {
        "id": "GAE1ZddFQonX"
      },
      "source": [
        "# adding prediction layer\n",
        "prediction = Dense(len(folders), activation='softmax')(x)\n",
        "\n",
        "# creating model \n",
        "model = Model(inputs = resnet.input, outputs=prediction)"
      ],
      "execution_count": null,
      "outputs": []
    },
    {
      "cell_type": "code",
      "metadata": {
        "id": "1w9FEFvOQopm"
      },
      "source": [
        "model.summary()"
      ],
      "execution_count": null,
      "outputs": []
    },
    {
      "cell_type": "code",
      "metadata": {
        "id": "qyVDfZ3oQor9"
      },
      "source": [
        "model.compile(loss = \"categorical_crossentropy\", optimizer='adam', metrics=['accuracy']\n",
        ")"
      ],
      "execution_count": null,
      "outputs": []
    },
    {
      "cell_type": "code",
      "metadata": {
        "id": "RZud3rp-Qou1"
      },
      "source": [
        "# data augmentation\n",
        "train_datagen = ImageDataGenerator(rescale= 1./255,\n",
        "                                  shear_range = 0.2,\n",
        "                                  zoom_range = 0.2,\n",
        "                                  horizontal_flip = True)\n",
        "\n",
        "test_datagen = ImageDataGenerator(rescale = 1./255)"
      ],
      "execution_count": null,
      "outputs": []
    },
    {
      "cell_type": "code",
      "metadata": {
        "colab": {
          "base_uri": "https://localhost:8080/"
        },
        "id": "X5QyLojaR_0c",
        "outputId": "4db2460d-314c-4c12-fb58-59227b78858b"
      },
      "source": [
        "training_set = train_datagen.flow_from_directory('/content/drive/MyDrive/Leaf_disease_detection/dataset2/PlantVillage/PlantVillage/train_sample',\n",
        "                                                 target_size = (224, 224),\n",
        "                                                 batch_size = 32,\n",
        "                                                 class_mode = 'categorical')"
      ],
      "execution_count": null,
      "outputs": [
        {
          "output_type": "stream",
          "text": [
            "Found 5559 images belonging to 2 classes.\n"
          ],
          "name": "stdout"
        }
      ]
    },
    {
      "cell_type": "code",
      "metadata": {
        "colab": {
          "base_uri": "https://localhost:8080/"
        },
        "id": "6NWe6ObeR_2Y",
        "outputId": "2d4414c6-f687-4353-821b-8aef9d981680"
      },
      "source": [
        "test_set = test_datagen.flow_from_directory('/content/drive/MyDrive/Leaf_disease_detection/dataset2/PlantVillage/PlantVillage/test_sample',\n",
        "                                                 target_size = (224, 224),\n",
        "                                                 batch_size = 32,\n",
        "                                                 class_mode = 'categorical')"
      ],
      "execution_count": null,
      "outputs": [
        {
          "output_type": "stream",
          "text": [
            "Found 1389 images belonging to 2 classes.\n"
          ],
          "name": "stdout"
        }
      ]
    },
    {
      "cell_type": "code",
      "metadata": {
        "id": "uH3q32QuSqe-"
      },
      "source": [
        "# fitting the model \n",
        "fit_model = model.fit_generator(\n",
        "    training_set, \n",
        "    validation_data = test_set,\n",
        "    epochs = 5,\n",
        "    steps_per_epoch = len(training_set),\n",
        "    validation_steps = len(test_set)\n",
        ")"
      ],
      "execution_count": null,
      "outputs": []
    },
    {
      "cell_type": "code",
      "metadata": {
        "id": "B26oNL-usHhz"
      },
      "source": [
        "model.save(\"/content/drive/MyDrive/Leaf_disease_detection/dataset2/PlantVillage/PlantVillage/model_resnet_50.h5\")"
      ],
      "execution_count": null,
      "outputs": []
    }
  ]
}